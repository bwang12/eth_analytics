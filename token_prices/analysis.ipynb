{
 "cells": [
  {
   "cell_type": "code",
   "execution_count": 5,
   "metadata": {},
   "outputs": [
    {
     "ename": "ModuleNotFoundError",
     "evalue": "No module named 'pycoingecko'",
     "output_type": "error",
     "traceback": [
      "\u001b[1;31m---------------------------------------------------------------------------\u001b[0m",
      "\u001b[1;31mModuleNotFoundError\u001b[0m                       Traceback (most recent call last)",
      "\u001b[1;32m<ipython-input-5-c719db7a5f24>\u001b[0m in \u001b[0;36m<module>\u001b[1;34m\u001b[0m\n\u001b[0;32m      1\u001b[0m \u001b[1;32mimport\u001b[0m \u001b[0mquantstats\u001b[0m \u001b[1;32mas\u001b[0m \u001b[0mqs\u001b[0m\u001b[1;33m\u001b[0m\u001b[0m\n\u001b[1;32m----> 2\u001b[1;33m \u001b[1;32mfrom\u001b[0m \u001b[0mpycoingecko\u001b[0m \u001b[1;32mimport\u001b[0m \u001b[0mCoinGeckoAPI\u001b[0m\u001b[1;33m\u001b[0m\u001b[0m\n\u001b[0m\u001b[0;32m      3\u001b[0m \u001b[1;32mimport\u001b[0m \u001b[0mpandas\u001b[0m \u001b[1;32mas\u001b[0m \u001b[0mpd\u001b[0m\u001b[1;33m\u001b[0m\u001b[0m\n\u001b[0;32m      4\u001b[0m \u001b[1;32mfrom\u001b[0m \u001b[0mdatetime\u001b[0m \u001b[1;32mimport\u001b[0m \u001b[0mdatetime\u001b[0m\u001b[1;33m\u001b[0m\u001b[0m\n\u001b[0;32m      5\u001b[0m \u001b[1;32mimport\u001b[0m \u001b[0mstatistics\u001b[0m\u001b[1;33m\u001b[0m\u001b[0m\n",
      "\u001b[1;31mModuleNotFoundError\u001b[0m: No module named 'pycoingecko'"
     ]
    }
   ],
   "source": [
    "import quantstats as qs\n",
    "from pycoingecko import CoinGeckoAPI\n",
    "import pandas as pd \n",
    "from datetime import datetime\n",
    "import statistics\n",
    "cg = CoinGeckoAPI()\n",
    "date = []\n",
    "eth_price = []\n",
    "\n",
    "eth_price_history = cg.get_coin_market_chart_by_id(id='defipulse-index', vs_currency='usd', days='30')\n",
    "eth_price_dict = eth_price_history['prices']\n",
    "\n",
    "for x in eth_price_dict: \n",
    "    date.append(datetime.fromtimestamp(x[0]/1000))\n",
    "    eth_price.append(x[1])\n",
    "total_yield = .28\n",
    "daily_reduction = .00105\n",
    "starting_value = 10000\n",
    "days = 90\n",
    "values = []\n",
    "while days > 0: \n",
    "    #print(starting_value)\n",
    "    starting_value = starting_value + (starting_value*(total_yield/365))\n",
    "    total_yield = total_yield - daily_reduction\n",
    "    values.append(starting_value)\n",
    "    days = days - 1 \n",
    "\n",
    "list_returns_percent_a = [100 * (b - a) / a for a, b in zip(eth_price[::1], eth_price[1::1])]\n",
    "#print(list_returns_percent_a)\n",
    "#percents_list = statistics.pstdev(list_returns_percent_a)\n",
    "\n",
    "# fetch the daily returns for a stock\n",
    "#stock = qs.utils.download_returns('FB')\n",
    "#print(stock)\n",
    "#print(type(stock))\n",
    "# show sharpe ratio\n",
    "x = pd.Series(list_returns_percent_a)\n",
    "from datetime import datetime\n",
    "\n",
    "date_range = pd.date_range(end = datetime.today(), periods = 720).to_pydatetime().tolist()\n",
    "\n",
    "x.index = date_range\n",
    "x = x/100\n",
    "print(x)\n",
    "qs.reports.html(x)\n",
    "\n",
    "'''\n",
    "x.index = pd.to_datetime(x.index)\n",
    "print(x)\n",
    "qs.reports.full(x)\n",
    "'''"
   ]
  },
  {
   "cell_type": "code",
   "execution_count": 8,
   "metadata": {},
   "outputs": [
    {
     "ename": "ModuleNotFoundError",
     "evalue": "No module named 'pycoingecko'",
     "output_type": "error",
     "traceback": [
      "\u001b[1;31m---------------------------------------------------------------------------\u001b[0m",
      "\u001b[1;31mModuleNotFoundError\u001b[0m                       Traceback (most recent call last)",
      "\u001b[1;32m<ipython-input-8-b015cf6db51c>\u001b[0m in \u001b[0;36m<module>\u001b[1;34m\u001b[0m\n\u001b[1;32m----> 1\u001b[1;33m \u001b[1;32mfrom\u001b[0m \u001b[0mpycoingecko\u001b[0m \u001b[1;32mimport\u001b[0m \u001b[0mCoinGeckoAPI\u001b[0m\u001b[1;33m\u001b[0m\u001b[0m\n\u001b[0m\u001b[0;32m      2\u001b[0m \u001b[1;32mfrom\u001b[0m \u001b[0mdatetime\u001b[0m \u001b[1;32mimport\u001b[0m \u001b[0mdatetime\u001b[0m\u001b[1;33m\u001b[0m\u001b[0m\n\u001b[0;32m      3\u001b[0m \u001b[0mcg\u001b[0m \u001b[1;33m=\u001b[0m \u001b[0mCoinGeckoAPI\u001b[0m\u001b[1;33m(\u001b[0m\u001b[1;33m)\u001b[0m\u001b[1;33m\u001b[0m\u001b[0m\n\u001b[0;32m      4\u001b[0m \u001b[0mtokens\u001b[0m \u001b[1;33m=\u001b[0m \u001b[0mcg\u001b[0m\u001b[1;33m.\u001b[0m\u001b[0mget_coins_list\u001b[0m\u001b[1;33m(\u001b[0m\u001b[1;33m)\u001b[0m\u001b[1;33m\u001b[0m\u001b[0m\n\u001b[0;32m      5\u001b[0m \u001b[1;31m#print(tokens)\u001b[0m\u001b[1;33m\u001b[0m\u001b[1;33m\u001b[0m\u001b[0m\n",
      "\u001b[1;31mModuleNotFoundError\u001b[0m: No module named 'pycoingecko'"
     ]
    }
   ],
   "source": [
    "from pycoingecko import CoinGeckoAPI\n",
    "from datetime import datetime\n",
    "cg = CoinGeckoAPI()\n",
    "tokens = cg.get_coins_list()\n",
    "#print(tokens)\n",
    "\n",
    "mc_dates = []\n",
    "mc_values = []\n",
    "project = 'solana'\n",
    "price_history = cg.get_coin_market_chart_by_id(id=project, include_market_cap='true', vs_currency='usd', days='360')\n",
    "market_caps = price_history['market_caps']\n",
    "#print(market_caps)\n",
    "for x in market_caps: \n",
    "    mc_dates.append(x[0])\n",
    "    mc_values.append(x[1])\n",
    "mc_dates = [x / 1000 for x in mc_dates]\n",
    "mc_dates = [int(x) for x in mc_dates]\n",
    "print(mc_dates)"
   ]
  },
  {
   "cell_type": "code",
   "execution_count": null,
   "metadata": {},
   "outputs": [],
   "source": [
    "mc_dates2 = []\n",
    "mc_values2 = []\n",
    "project2 = 'cosmos'\n",
    "price_history2 = cg.get_coin_market_chart_by_id(id=project2, include_market_cap='true', vs_currency='usd', days='360')\n",
    "market_caps2 = price_history2['market_caps']\n",
    "#print(market_caps)\n",
    "for x in market_caps2: \n",
    "    mc_dates2.append(x[0])\n",
    "    mc_values2.append(x[1])\n",
    "mc_dates2 = [x / 1000 for x in mc_dates2]\n",
    "mc_dates2 = [int(x) for x in mc_dates2]\n"
   ]
  },
  {
   "cell_type": "code",
   "execution_count": null,
   "metadata": {},
   "outputs": [],
   "source": [
    "mc_dates3 = []\n",
    "mc_values3 = []\n",
    "project3 = 'terra-luna'\n",
    "price_history3 = cg.get_coin_market_chart_by_id(id=project3, include_market_cap='true', vs_currency='usd', days='360')\n",
    "market_caps3 = price_history3['market_caps']\n",
    "#print(market_caps)\n",
    "for x in market_caps3: \n",
    "    mc_dates3.append(x[0])\n",
    "    mc_values3.append(x[1])\n",
    "mc_dates3 = [x / 1000 for x in mc_dates3]\n",
    "mc_dates3 = [int(x) for x in mc_dates3]"
   ]
  },
  {
   "cell_type": "code",
   "execution_count": null,
   "metadata": {},
   "outputs": [],
   "source": [
    "mc_dates4 = []\n",
    "mc_values4 = []\n",
    "project4 = 'avalanche-2'\n",
    "price_history4 = cg.get_coin_market_chart_by_id(id=project4, include_market_cap='true', vs_currency='usd', days='460')\n",
    "market_caps4 = price_history4['market_caps']\n",
    "#print(market_caps)\n",
    "for x in market_caps4: \n",
    "    mc_dates4.append(x[0])\n",
    "    mc_values4.append(x[1])\n",
    "mc_dates4 = [x / 1000 for x in mc_dates4]\n",
    "mc_dates4 = [int(x) for x in mc_dates4]"
   ]
  },
  {
   "cell_type": "code",
   "execution_count": 6,
   "metadata": {},
   "outputs": [
    {
     "name": "stdout",
     "output_type": "stream",
     "text": [
      "[1581548400, 1581634800, 1581721200, 1581807600, 1581894000, 1581980400, 1582066800, 1582153200, 1582239600, 1582326000, 1582412400, 1582498800, 1582585200, 1582671600, 1582758000, 1582844400, 1582930800, 1583017200, 1583103600, 1583190000, 1583276400, 1583362800, 1583449200, 1583535600, 1583622000, 1583708400, 1583794800, 1583881200, 1583967600, 1584054000, 1584140400, 1584226800, 1584313200, 1584399600, 1584486000, 1584572400, 1584658800, 1584745200, 1584831600, 1584918000, 1585004400, 1585090800, 1585177200, 1585263600, 1585350000, 1585436400, 1585519200, 1585605600, 1585692000, 1585778400, 1585864800, 1585951200, 1586037600, 1586124000, 1586210400, 1586296800, 1586383200, 1586469600, 1586556000, 1586642400, 1586728800, 1586815200, 1586901600, 1586988000, 1587074400, 1587160800, 1587247200, 1587333600, 1587420000, 1587506400, 1587592800, 1587679200, 1587765600, 1587852000, 1587938400, 1588024800, 1588111200, 1588197600, 1588284000, 1588370400, 1588456800, 1588543200, 1588629600, 1588716000, 1588802400, 1588888800, 1588975200, 1589061600, 1589148000, 1589234400, 1589320800, 1589407200, 1589493600, 1589580000, 1589666400, 1589752800, 1589839200, 1589925600, 1590012000, 1590098400, 1590184800, 1590271200, 1590357600, 1590444000, 1590530400, 1590616800, 1590703200, 1590789600, 1590876000, 1590962400, 1591048800, 1591135200, 1591221600, 1591308000, 1591394400, 1591480800, 1591567200, 1591653600, 1591740000, 1591826400, 1591912800, 1591999200, 1592085600, 1592172000, 1592258400, 1592344800, 1592431200, 1592517600, 1592604000, 1592690400, 1592776800, 1592863200, 1592949600, 1593036000, 1593122400, 1593208800, 1593295200, 1593381600, 1593468000, 1593554400, 1593640800, 1593727200, 1593813600, 1593900000, 1593986400, 1594072800, 1594159200, 1594245600, 1594332000, 1594418400, 1594504800, 1594591200, 1594677600, 1594764000, 1594850400, 1594936800, 1595023200, 1595109600, 1595196000, 1595282400, 1595368800, 1595455200, 1595541600, 1595628000, 1595714400, 1595800800, 1595887200, 1595973600, 1596060000, 1596146400, 1596232800, 1596319200, 1596405600, 1596492000, 1596578400, 1596664800, 1596751200, 1596837600, 1596924000, 1597010400, 1597096800, 1597183200, 1597269600, 1597356000, 1597442400, 1597528800, 1597615200, 1597701600, 1597788000, 1597874400, 1597960800, 1598047200, 1598133600, 1598220000, 1598306400, 1598392800, 1598479200, 1598565600, 1598652000, 1598738400, 1598824800, 1598911200, 1598997600, 1599084000, 1599170400, 1599256800, 1599343200, 1599429600, 1599516000, 1599602400, 1599688800, 1599775200, 1599861600, 1599948000, 1600034400, 1600120800, 1600207200, 1600293600, 1600380000, 1600466400, 1600552800, 1600639200, 1600725600, 1600812000, 1600898400, 1600984800, 1601071200, 1601157600, 1601244000, 1601330400, 1601416800, 1601503200, 1601589600, 1601676000, 1601762400, 1601848800, 1601935200, 1602021600, 1602108000, 1602194400, 1602280800, 1602367200, 1602453600, 1602540000, 1602626400, 1602712800, 1602799200, 1602885600, 1602972000, 1603058400, 1603144800, 1603231200, 1603317600, 1603404000, 1603490400, 1603576800, 1603666800, 1603753200, 1603839600, 1603926000, 1604012400, 1604098800, 1604185200, 1604271600, 1604358000, 1604444400, 1604530800, 1604617200, 1604703600, 1604790000, 1604876400, 1604962800, 1605049200, 1605135600, 1605222000, 1605308400, 1605394800, 1605481200, 1605567600, 1605654000, 1605740400, 1605826800, 1605913200, 1605999600, 1606086000, 1606172400, 1606258800, 1606345200, 1606431600, 1606518000, 1606604400, 1606690800, 1606777200, 1606863600, 1606950000, 1607036400, 1607122800, 1607209200, 1607295600, 1607382000, 1607468400, 1607554800, 1607641200, 1607727600, 1607814000, 1607900400, 1607986800, 1608073200, 1608159600, 1608246000, 1608332400, 1608418800, 1608505200, 1608591600, 1608678000, 1608764400, 1608850800, 1608937200, 1609023600, 1609110000, 1609196400, 1609282800, 1609369200, 1609455600, 1609542000, 1609628400, 1609714800, 1609801200, 1609887600, 1609974000, 1610060400, 1610146800, 1610233200, 1610319600, 1610406000, 1610492400, 1610578800, 1610665200, 1610751600, 1610838000, 1610924400, 1611010800, 1611097200, 1611183600, 1611270000, 1611356400, 1611442800, 1611529200, 1611615600, 1611702000, 1611788400, 1611874800, 1611961200, 1612047600, 1612134000, 1612220400, 1612306800, 1612393200, 1612479600, 1612566000, 1612652400, 1612738800, 1612825200, 1612911600, 1612998000, 1613084400, 1613170800, 1613257200, 1613343600, 1613430000, 1613516400, 1613602800, 1613689200, 1613775600, 1613862000, 1613948400, 1614034800, 1614121200, 1614207600, 1614294000, 1614380400, 1614466800, 1614553200, 1614639600, 1614726000, 1614812400, 1614898800, 1614985200, 1615071600, 1615158000, 1615244400, 1615330800, 1615417200, 1615503600, 1615590000, 1615676400, 1615762800, 1615849200, 1615935600, 1616022000, 1616108400, 1616194800, 1616281200, 1616367600, 1616454000, 1616540400, 1616626800, 1616713200, 1616799600, 1616886000, 1616968800, 1617055200, 1617141600, 1617228000, 1617314400, 1617400800, 1617487200, 1617573600, 1617660000, 1617746400, 1617832800, 1617919200, 1618005600, 1618092000, 1618178400, 1618264800, 1618351200, 1618437600, 1618524000, 1618610400, 1618696800, 1618783200, 1618869600, 1618956000, 1619042400, 1619128800, 1619215200, 1619301600, 1619388000, 1619474400, 1619560800, 1619647200, 1619733600, 1619820000, 1619906400, 1619992800, 1620079200, 1620165600, 1620252000, 1620338400, 1620424800, 1620511200, 1620597600, 1620684000, 1620864000, 1620950400, 1621036800, 1621123200, 1621209600, 1621296000, 1621382400, 1621468800, 1621555200, 1621641600, 1621728000, 1621814400, 1621900800, 1621987200, 1622073600, 1622160000, 1622246400, 1622332800, 1622419200, 1622505600, 1622592000, 1622678400, 1622764800, 1622851200, 1622937600, 1623024000, 1623110400, 1623196800, 1623283200, 1623369600, 1623456000, 1623542400, 1623628800, 1623715200, 1623801600, 1623888000, 1623974400, 1624060800, 1624147200, 1624233600, 1624320000, 1624406400, 1624492800, 1624579200, 1624665600, 1624752000, 1624838400, 1624924800, 1625011200, 1625097600, 1625184000, 1625270400, 1625356800, 1625443200, 1625529600, 1625616000, 1625702400, 1625788800, 1625875200, 1625961600, 1626048000, 1626134400, 1626220800, 1626307200, 1626393600, 1626480000, 1626566400, 1626652800, 1626739200, 1626825600, 1626912000, 1626998400, 1627084800, 1627171200, 1627257600, 1627344000, 1627430400, 1627516800, 1627603200, 1627689600, 1627776000, 1627862400, 1627948800, 1628035200, 1628121600, 1628208000, 1628294400, 1628380800, 1628467200, 1628553600, 1628640000, 1628726400, 1628812800, 1628899200, 1628985600, 1629072000, 1629158400, 1629244800, 1629331200, 1629417600, 1629504000, 1629590400, 1629676800, 1629763200, 1629917852]\n"
     ]
    }
   ],
   "source": [
    "import requests \n",
    "\n",
    "tvl = requests.get('https://api.llama.fi/protocol/yearn-finance')\n",
    "tvl = tvl.json()\n",
    "\n",
    "tvl_dates = []\n",
    "tvl_values = []\n",
    "for x in tvl['tvl']: \n",
    "    #print(x)\n",
    "    tvl_dates.append((x['date']))\n",
    "    tvl_values.append(x['totalLiquidityUSD'])\n",
    "    \n",
    "print(tvl_dates)"
   ]
  },
  {
   "cell_type": "code",
   "execution_count": 7,
   "metadata": {},
   "outputs": [
    {
     "ename": "NameError",
     "evalue": "name 'mc_dates' is not defined",
     "output_type": "error",
     "traceback": [
      "\u001b[1;31m---------------------------------------------------------------------------\u001b[0m",
      "\u001b[1;31mNameError\u001b[0m                                 Traceback (most recent call last)",
      "\u001b[1;32m<ipython-input-7-4c88c2da8c16>\u001b[0m in \u001b[0;36m<module>\u001b[1;34m\u001b[0m\n\u001b[0;32m      3\u001b[0m \u001b[1;33m\u001b[0m\u001b[0m\n\u001b[0;32m      4\u001b[0m \u001b[0mfig\u001b[0m \u001b[1;33m=\u001b[0m \u001b[0mgo\u001b[0m\u001b[1;33m.\u001b[0m\u001b[0mFigure\u001b[0m\u001b[1;33m(\u001b[0m\u001b[1;33m)\u001b[0m\u001b[1;33m\u001b[0m\u001b[0m\n\u001b[1;32m----> 5\u001b[1;33m fig.add_trace(go.Scatter(x=mc_dates, y=mc_values,\n\u001b[0m\u001b[0;32m      6\u001b[0m                     \u001b[0mmode\u001b[0m\u001b[1;33m=\u001b[0m\u001b[1;34m'lines'\u001b[0m\u001b[1;33m,\u001b[0m\u001b[1;33m\u001b[0m\u001b[0m\n\u001b[0;32m      7\u001b[0m                     \u001b[0mname\u001b[0m\u001b[1;33m=\u001b[0m\u001b[1;34m'market cap'\u001b[0m\u001b[1;33m,\u001b[0m\u001b[1;33m\u001b[0m\u001b[0m\n",
      "\u001b[1;31mNameError\u001b[0m: name 'mc_dates' is not defined"
     ]
    }
   ],
   "source": [
    "\n",
    "import plotly.graph_objects as go\n",
    "from plotly.subplots import make_subplots\n",
    "\n",
    "fig = go.Figure()\n",
    "fig.add_trace(go.Scatter(x=mc_dates, y=mc_values,\n",
    "                    mode='lines',\n",
    "                    name='market cap',\n",
    "                    line_color='blue'))\n",
    "fig.add_trace(go.Scatter(x=mc_dates2, y=mc_values2,\n",
    "                    mode='lines',\n",
    "                    name='market cap',\n",
    "                    line_color='blue'))\n",
    "fig.add_trace(go.Scatter(x=mc_dates3, y=mc_values3,\n",
    "                    mode='lines',\n",
    "                    name='market cap',\n",
    "                    line_color='blue'))\n",
    "fig.add_trace(go.Scatter(x=mc_dates4, y=mc_values4,\n",
    "                    mode='lines',\n",
    "                    name='market cap',\n",
    "                    line_color='blue'))\n",
    "\n",
    "#eth_price = '$' + str(int(float((eth_price.json()[-1]['v']))))\n",
    "'''\n",
    "fig.add_trace(go.Scatter(x=tvl_dates, y=tvl_values,\n",
    "                    mode='lines',\n",
    "                    name='total value locked',\n",
    "                    line_color='orange'))\n",
    "\n",
    "\n",
    "fig.add_trace(go.Scatter(x=gn_date, y=gn_value,\n",
    "                    mode='lines',\n",
    "                    name='Ethereum Price'),secondary_y=True)\n",
    "'''\n",
    "fig.update_layout(\n",
    "    xaxis=dict(\n",
    "        showline=True,\n",
    "        showgrid=False,\n",
    "        showticklabels=True,\n",
    "        linewidth=2,\n",
    "        zeroline=True,\n",
    "        linecolor='#F4F4F4',\n",
    "        ticks='outside',\n",
    "        tickfont=dict(\n",
    "            family='Arial',\n",
    "            size=22,\n",
    "            color='rgb(82, 82, 82)',\n",
    "        ),\n",
    "    ),\n",
    "    yaxis=dict(\n",
    "        showgrid=True,\n",
    "        zeroline=True,\n",
    "        showline=True,\n",
    "        showticklabels=True,\n",
    "        gridcolor='#F4F4F4',\n",
    "        tickfont=dict(\n",
    "            family='Arial',\n",
    "            size=22,\n",
    "            color='blue',\n",
    "        ),\n",
    "    ),\n",
    "    yaxis2=dict(\n",
    "        showgrid=True,\n",
    "        zeroline=True,\n",
    "        showline=True,\n",
    "        showticklabels=True,\n",
    "        gridcolor='#F4F4F4',\n",
    "        tickfont=dict(\n",
    "            family='Arial',\n",
    "            size=22,\n",
    "            color='blue',\n",
    "        ),\n",
    "    ),\n",
    "    legend=dict(\n",
    "        orientation=\"h\",\n",
    "        yanchor=\"bottom\",\n",
    "        y=1.02,\n",
    "        xanchor=\"right\",\n",
    "        x=1\n",
    "    ),\n",
    "    autosize=True,\n",
    "\n",
    "    plot_bgcolor='white'\n",
    ")\n",
    "\n",
    "'''\n",
    "fig.add_layout_image(\n",
    "    dict(\n",
    "        source=\"https://images.plot.ly/language-icons/api-home/python-logo.png\",\n",
    "        xref=\"x\",\n",
    "        yref=\"y\",\n",
    "        x=0,\n",
    "        y=3,\n",
    "        sizex=2,\n",
    "        sizey=2,\n",
    "        sizing=\"stretch\",\n",
    "        opacity=0.5,\n",
    "        layer=\"below\")\n",
    ")\n",
    "'''\n",
    "fig.show()"
   ]
  },
  {
   "cell_type": "code",
   "execution_count": 25,
   "metadata": {},
   "outputs": [
    {
     "data": {
      "text/plain": [
       "set()"
      ]
     },
     "execution_count": 25,
     "metadata": {},
     "output_type": "execute_result"
    }
   ],
   "source": []
  },
  {
   "cell_type": "code",
   "execution_count": null,
   "metadata": {},
   "outputs": [],
   "source": []
  }
 ],
 "metadata": {
  "kernelspec": {
   "display_name": "Python 3",
   "language": "python",
   "name": "python3"
  },
  "language_info": {
   "codemirror_mode": {
    "name": "ipython",
    "version": 3
   },
   "file_extension": ".py",
   "mimetype": "text/x-python",
   "name": "python",
   "nbconvert_exporter": "python",
   "pygments_lexer": "ipython3",
   "version": "3.7.0"
  }
 },
 "nbformat": 4,
 "nbformat_minor": 4
}
